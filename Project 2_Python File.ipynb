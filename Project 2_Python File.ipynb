{
 "cells": [
  {
   "cell_type": "code",
   "execution_count": 1,
   "metadata": {
    "colab": {
     "base_uri": "https://localhost:8080/",
     "height": 0
    },
    "id": "1zqT5_xQDEK3",
    "outputId": "68a69c4d-77e8-4f51-98d4-3a3728dfcc89"
   },
   "outputs": [
    {
     "name": "stdout",
     "output_type": "stream",
     "text": [
      "<class 'pandas.core.frame.DataFrame'>\n",
      "RangeIndex: 398658 entries, 0 to 398657\n",
      "Data columns (total 10 columns):\n",
      " #   Column     Non-Null Count   Dtype  \n",
      "---  ------     --------------   -----  \n",
      " 0   Port Name  398658 non-null  object \n",
      " 1   State      398658 non-null  object \n",
      " 2   Port Code  398658 non-null  int64  \n",
      " 3   Border     398658 non-null  object \n",
      " 4   Date       398658 non-null  object \n",
      " 5   Measure    398658 non-null  object \n",
      " 6   Value      398658 non-null  int64  \n",
      " 7   Latitude   398658 non-null  float64\n",
      " 8   Longitude  398658 non-null  float64\n",
      " 9   Point      398658 non-null  object \n",
      "dtypes: float64(2), int64(2), object(6)\n",
      "memory usage: 30.4+ MB\n"
     ]
    },
    {
     "data": {
      "text/plain": [
       "(None,\n",
       "       Port Name      State  Port Code            Border      Date  \\\n",
       " 0       Jackman      Maine        104  US-Canada Border  Jan 2024   \n",
       " 1      Porthill      Idaho       3308  US-Canada Border  Apr 2024   \n",
       " 2      San Luis    Arizona       2608  US-Mexico Border  Apr 2024   \n",
       " 3  Willow Creek    Montana       3325  US-Canada Border  Jan 2024   \n",
       " 4       Warroad  Minnesota       3423  US-Canada Border  Jan 2024   \n",
       " \n",
       "                        Measure  Value  Latitude  Longitude  \\\n",
       " 0                       Trucks   6556    45.806    -70.397   \n",
       " 1                       Trucks     98    49.000   -116.499   \n",
       " 2                        Buses     10    32.485   -114.782   \n",
       " 3                  Pedestrians      2    49.000   -109.731   \n",
       " 4  Personal Vehicle Passengers   9266    48.999    -95.377   \n",
       " \n",
       "                            Point  \n",
       " 0   POINT (-70.396722 45.805661)  \n",
       " 1   POINT (-116.49925 48.999861)  \n",
       " 2    POINT (-114.7822222 32.485)  \n",
       " 3  POINT (-109.731333 48.999972)  \n",
       " 4      POINT (-95.376555 48.999)  )"
      ]
     },
     "execution_count": 1,
     "metadata": {},
     "output_type": "execute_result"
    }
   ],
   "source": [
    "import os\n",
    "import pandas as pd\n",
    "import matplotlib.pyplot as plt\n",
    "import seaborn as sns\n",
    "import numpy as np\n",
    "from statsmodels.tsa.holtwinters import ExponentialSmoothing\n",
    "\n",
    "# Load the dataset\n",
    "file_path = \"Border_Crossing_Entry_Data.csv\"\n",
    "df = pd.read_csv(file_path)\n",
    "\n",
    "# Display basic information about the dataset\n",
    "df.info(), df.head()\n"
   ]
  },
  {
   "cell_type": "code",
   "execution_count": 2,
   "metadata": {
    "colab": {
     "base_uri": "https://localhost:8080/",
     "height": 0
    },
    "id": "S1hN9JrSDLBi",
    "outputId": "2d7b33d4-63d1-4f57-dfe9-057d98186f95"
   },
   "outputs": [
    {
     "data": {
      "text/plain": [
       "(Port Name    0\n",
       " State        0\n",
       " Port Code    0\n",
       " Border       0\n",
       " Date         0\n",
       " Measure      0\n",
       " Value        0\n",
       " Latitude     0\n",
       " Longitude    0\n",
       " Point        0\n",
       " dtype: int64,\n",
       " 10)"
      ]
     },
     "execution_count": 2,
     "metadata": {},
     "output_type": "execute_result"
    }
   ],
   "source": [
    "# Convert Date column to datetime format\n",
    "df['Date'] = pd.to_datetime(df['Date'], format='%b %Y')\n",
    "\n",
    "# Check for missing values\n",
    "missing_values = df.isnull().sum()\n",
    "\n",
    "# Check for duplicates\n",
    "duplicates = df.duplicated().sum()\n",
    "\n",
    "# Display results\n",
    "missing_values, duplicates\n"
   ]
  },
  {
   "cell_type": "code",
   "execution_count": 19,
   "metadata": {
    "colab": {
     "base_uri": "https://localhost:8080/",
     "height": 0
    },
    "id": "wWjE-fBtDWp2",
    "outputId": "90c0bba7-208e-42fa-ecda-290ae103b277"
   },
   "outputs": [
    {
     "name": "stdout",
     "output_type": "stream",
     "text": [
      "<class 'pandas.core.frame.DataFrame'>\n",
      "Index: 398648 entries, 0 to 398657\n",
      "Data columns (total 10 columns):\n",
      " #   Column     Non-Null Count   Dtype         \n",
      "---  ------     --------------   -----         \n",
      " 0   Port Name  398648 non-null  object        \n",
      " 1   State      398648 non-null  object        \n",
      " 2   Port Code  398648 non-null  int64         \n",
      " 3   Border     398648 non-null  object        \n",
      " 4   Date       398648 non-null  datetime64[ns]\n",
      " 5   Measure    398648 non-null  object        \n",
      " 6   Value      398648 non-null  int64         \n",
      " 7   Latitude   398648 non-null  float64       \n",
      " 8   Longitude  398648 non-null  float64       \n",
      " 9   Point      398648 non-null  object        \n",
      "dtypes: datetime64[ns](1), float64(2), int64(2), object(5)\n",
      "memory usage: 33.5+ MB\n"
     ]
    },
    {
     "data": {
      "text/plain": [
       "(None,\n",
       "       Port Name      State  Port Code            Border       Date  \\\n",
       " 0       Jackman      Maine        104  US-Canada Border 2024-01-01   \n",
       " 1      Porthill      Idaho       3308  US-Canada Border 2024-04-01   \n",
       " 2      San Luis    Arizona       2608  US-Mexico Border 2024-04-01   \n",
       " 3  Willow Creek    Montana       3325  US-Canada Border 2024-01-01   \n",
       " 4       Warroad  Minnesota       3423  US-Canada Border 2024-01-01   \n",
       " \n",
       "                        Measure  Value  Latitude  Longitude  \\\n",
       " 0                       Trucks   6556    45.806    -70.397   \n",
       " 1                       Trucks     98    49.000   -116.499   \n",
       " 2                        Buses     10    32.485   -114.782   \n",
       " 3                  Pedestrians      2    49.000   -109.731   \n",
       " 4  Personal Vehicle Passengers   9266    48.999    -95.377   \n",
       " \n",
       "                            Point  \n",
       " 0   POINT (-70.396722 45.805661)  \n",
       " 1   POINT (-116.49925 48.999861)  \n",
       " 2    POINT (-114.7822222 32.485)  \n",
       " 3  POINT (-109.731333 48.999972)  \n",
       " 4      POINT (-95.376555 48.999)  )"
      ]
     },
     "execution_count": 19,
     "metadata": {},
     "output_type": "execute_result"
    }
   ],
   "source": [
    "# Remove duplicate rows\n",
    "df_cleaned = df.drop_duplicates().copy()  # Ensure it's a full copy\n",
    "\n",
    "# Ensure categorical variables are in correct format using .loc[]\n",
    "categorical_cols = ['Port Name', 'State', 'Border', 'Measure']\n",
    "df_cleaned.loc[:, categorical_cols] = df_cleaned[categorical_cols].astype('category')\n",
    "\n",
    "# Verify changes\n",
    "df_cleaned.info(), df_cleaned.head()\n",
    "\n"
   ]
  },
  {
   "cell_type": "code",
   "execution_count": 4,
   "metadata": {},
   "outputs": [],
   "source": [
    "save_folder = \"border_crossing_visualizations\"\n",
    "os.makedirs(save_folder, exist_ok=True)  # Ensures the folder exists\n"
   ]
  },
  {
   "cell_type": "code",
   "execution_count": 5,
   "metadata": {
    "colab": {
     "base_uri": "https://localhost:8080/",
     "height": 585
    },
    "id": "NSVeXDmDDbGu",
    "outputId": "e21a0a54-e70e-4bd1-cf3f-f4ba37d1721e"
   },
   "outputs": [
    {
     "name": "stdout",
     "output_type": "stream",
     "text": [
      "Image saved at: border_crossing_visualizations/monthly_trend.png\n"
     ]
    }
   ],
   "source": [
    "import matplotlib.pyplot as plt\n",
    "import seaborn as sns\n",
    "\n",
    "# Aggregate data by month\n",
    "monthly_trend = df_cleaned.groupby('Date')['Value'].sum().reset_index()\n",
    "\n",
    "# Plot the monthly trend of border crossings\n",
    "plt.figure(figsize=(12, 6))\n",
    "sns.lineplot(data=monthly_trend, x='Date', y='Value', marker='o')\n",
    "\n",
    "plt.title('Monthly Trend of Border Crossings (2024)')\n",
    "plt.xlabel('Date')\n",
    "plt.ylabel('Total Crossings')\n",
    "plt.xticks(rotation=45)\n",
    "plt.grid(True)\n",
    "plt.savefig(os.path.join(save_folder, \"monthly_trend.png\"))\n",
    "plt.close()  # Close the figure to prevent memory issues\n",
    "\n",
    "print(f\"Image saved at: {save_folder}/monthly_trend.png\")"
   ]
  },
  {
   "cell_type": "code",
   "execution_count": 6,
   "metadata": {
    "colab": {
     "base_uri": "https://localhost:8080/",
     "height": 630
    },
    "id": "HXHuunKMDdEQ",
    "outputId": "64fcff55-ff23-4cb3-b95b-49b6c925285c"
   },
   "outputs": [],
   "source": [
    "# Aggregate data by border type (Fix: Explicitly set `observed=False`)\n",
    "border_distribution = df_cleaned.groupby('Border', observed=False)['Value'].sum().astype(float)\n",
    "\n",
    "# Plot a pie chart\n",
    "plt.figure(figsize=(8, 8))\n",
    "plt.pie(border_distribution, labels=border_distribution.index, autopct='%1.1f%%', \n",
    "        startangle=140, colors=['#66b3ff','#ff9999'], textprops={'fontsize': 12})\n",
    "\n",
    "plt.title('Proportion of Border Crossings by Border Type (2024)', fontsize=14)\n",
    "\n",
    "# Save the image in the specified folder\n",
    "plt.savefig(os.path.join(save_folder, \"Border_crossings_by_Border_type.png\"))\n",
    "plt.close()"
   ]
  },
  {
   "cell_type": "code",
   "execution_count": 13,
   "metadata": {
    "colab": {
     "base_uri": "https://localhost:8080/",
     "height": 754
    },
    "id": "e6wv4gm5DeFY",
    "outputId": "88afe562-3518-47f1-f2aa-95673a5ecca3"
   },
   "outputs": [],
   "source": [
    "# Aggregate data by crossing measure (Fix: Explicitly set `observed=False`)\n",
    "measure_distribution = df_cleaned.groupby('Measure', observed=False)['Value'].sum().reset_index()\n",
    "\n",
    "# Sort by total crossings for better visualization\n",
    "measure_distribution = measure_distribution.sort_values(by='Value', ascending=False)\n",
    "\n",
    "# Plot the distribution of border crossings by measure type\n",
    "plt.figure(figsize=(12, 6))\n",
    "sns.barplot(data=measure_distribution, x='Measure', y='Value')\n",
    "\n",
    "plt.title('Total Border Crossings by Measure Type (2024)')\n",
    "plt.xlabel('Type of Crossing')\n",
    "plt.ylabel('Total Crossings')\n",
    "plt.xticks(rotation=45)\n",
    "plt.grid(axis='y')\n",
    "\n",
    "# Save the visualization\n",
    "plt.savefig(os.path.join(save_folder, \"Total Border Crossings By Measure Type.png\"))\n",
    "plt.close()\n"
   ]
  },
  {
   "cell_type": "code",
   "execution_count": 14,
   "metadata": {
    "colab": {
     "base_uri": "https://localhost:8080/",
     "height": 788
    },
    "id": "7cFTWgqUDhhb",
    "outputId": "c5777257-4cc9-42dd-8dee-9074db8c30e8"
   },
   "outputs": [],
   "source": [
    "# Aggregate data by state (Fix: Explicitly set `observed=False`)\n",
    "state_distribution = df_cleaned.groupby('State', observed=False)['Value'].sum().reset_index()\n",
    "\n",
    "# Sort by total crossings for better visualization\n",
    "state_distribution = state_distribution.sort_values(by='Value', ascending=False)\n",
    "\n",
    "# Plot heatmap-style bar chart of border crossings by state\n",
    "plt.figure(figsize=(12, 6))\n",
    "sns.barplot(data=state_distribution, x='State', y='Value', hue=\"State\", palette='viridis', legend=False)\n",
    "\n",
    "plt.title('Total Border Crossings by State (2024)')\n",
    "plt.xlabel('State')\n",
    "plt.ylabel('Total Crossings')\n",
    "plt.xticks(rotation=90)\n",
    "plt.grid(axis='y')\n",
    "\n",
    "# Save the visualization\n",
    "plt.savefig(os.path.join(save_folder, \"Border Crossings By State.png\"))\n",
    "plt.close()\n",
    "\n"
   ]
  },
  {
   "cell_type": "code",
   "execution_count": 15,
   "metadata": {
    "colab": {
     "base_uri": "https://localhost:8080/",
     "height": 614
    },
    "id": "dkny6StADmAG",
    "outputId": "0605d0b1-7881-4cf9-dc08-76ce09a902ee"
   },
   "outputs": [],
   "source": [
    "# Ensure df_cleaned is a full copy before modifying\n",
    "df_cleaned = df_cleaned.copy()\n",
    "\n",
    "# Extract month from Date for seasonality analysis using .loc\n",
    "df_cleaned.loc[:, 'Month'] = df_cleaned['Date'].dt.month\n",
    "\n",
    "# Aggregate data by month to analyze seasonality\n",
    "seasonality_trend = df_cleaned.groupby('Month', observed=False)['Value'].sum().reset_index()\n",
    "\n",
    "# Plot seasonality trends\n",
    "plt.figure(figsize=(10, 5))\n",
    "sns.lineplot(data=seasonality_trend, x='Month', y='Value', marker='o')\n",
    "\n",
    "plt.title('Seasonality in Border Crossings (2024)')\n",
    "plt.xlabel('Month')\n",
    "plt.ylabel('Total Crossings')\n",
    "plt.xticks(range(1, 13), [\n",
    "    'Jan', 'Feb', 'Mar', 'Apr', 'May', 'Jun',\n",
    "    'Jul', 'Aug', 'Sep', 'Oct', 'Nov', 'Dec'\n",
    "])\n",
    "plt.grid(True)\n",
    "\n",
    "# Save the plot\n",
    "plt.savefig(os.path.join(save_folder, \"Seasonality in Border Crossings.png\"))\n",
    "plt.close()\n"
   ]
  },
  {
   "cell_type": "code",
   "execution_count": 10,
   "metadata": {
    "colab": {
     "base_uri": "https://localhost:8080/",
     "height": 545
    },
    "id": "No9JByRkDoIF",
    "outputId": "f0767186-7fca-4f5d-e5e2-694cc67417b3"
   },
   "outputs": [],
   "source": [
    "# Compute correlation matrix for numerical variables\n",
    "correlation_matrix = df_cleaned[['Value', 'Latitude', 'Longitude', 'Month']].corr()\n",
    "\n",
    "# Plot the correlation heatmap\n",
    "plt.figure(figsize=(8, 6))\n",
    "sns.heatmap(correlation_matrix, annot=True, cmap='coolwarm', linewidths=0.5)\n",
    "\n",
    "plt.title('Correlation Matrix of Border Crossing Variables')\n",
    "\n",
    "plt.savefig(os.path.join(save_folder, \"Correlation Matrix of border Crossing Variables.png\"))\n",
    "plt.close()"
   ]
  },
  {
   "cell_type": "code",
   "execution_count": 18,
   "metadata": {
    "colab": {
     "base_uri": "https://localhost:8080/",
     "height": 911
    },
    "id": "cLqb-ialDrGc",
    "outputId": "1a76825e-bba6-4131-ec09-47126330dd50"
   },
   "outputs": [
    {
     "name": "stdout",
     "output_type": "stream",
     "text": [
      "Forecasted values for next 6 months:\n",
      " 2025-01-01    2.674294e+07\n",
      "2025-02-01    2.906731e+07\n",
      "2025-03-01    2.796716e+07\n",
      "2025-04-01    3.006911e+07\n",
      "2025-05-01    3.088295e+07\n",
      "2025-06-01    3.423753e+07\n",
      "Freq: MS, dtype: float64\n"
     ]
    },
    {
     "name": "stderr",
     "output_type": "stream",
     "text": [
      "C:\\Users\\soumy\\anaconda3\\lib\\site-packages\\statsmodels\\tsa\\holtwinters\\model.py:915: ConvergenceWarning: Optimization failed to converge. Check mle_retvals.\n",
      "  warnings.warn(\n"
     ]
    }
   ],
   "source": [
    "# Ensure df_cleaned is a full copy\n",
    "df_cleaned = df_cleaned.copy()\n",
    "\n",
    "# Prepare data for forecasting\n",
    "time_series_data = df_cleaned.groupby('Date', observed=False)['Value'].sum()\n",
    "\n",
    "# Set the Date column as index and assign frequency to fix the warning\n",
    "time_series_data.index = pd.DatetimeIndex(time_series_data.index).to_period('M')\n",
    "\n",
    "# Apply Exponential Smoothing for forecasting (Fix: Remove seasonal component if needed)\n",
    "try:\n",
    "    model = ExponentialSmoothing(time_series_data, trend='add', seasonal='add', seasonal_periods=12)\n",
    "    fitted_model = model.fit()\n",
    "except:\n",
    "    print(\"Optimization failed. Trying without the seasonal component...\")\n",
    "    model = ExponentialSmoothing(time_series_data, trend='add')\n",
    "    fitted_model = model.fit()\n",
    "\n",
    "# Predict next 6 months\n",
    "forecast = fitted_model.forecast(steps=6)\n",
    "forecast.index = pd.date_range(start=time_series_data.index[-1].to_timestamp(), periods=6, freq='MS')\n",
    "\n",
    "# Plot the actual vs. predicted values\n",
    "plt.figure(figsize=(12, 6))\n",
    "plt.plot(time_series_data.index.to_timestamp(), time_series_data, label='Actual Crossings', marker='o')\n",
    "plt.plot(forecast.index, forecast, label='Forecasted Crossings', linestyle='dashed', marker='o', color='red')\n",
    "\n",
    "plt.title('Border Crossings Forecast (Next 6 Months)')\n",
    "plt.xlabel('Date')\n",
    "plt.ylabel('Total Crossings')\n",
    "plt.legend()\n",
    "plt.grid(True)\n",
    "\n",
    "# Save the forecast visualization\n",
    "plt.savefig(os.path.join(save_folder, \"Border Crossings Forecasted.png\"))\n",
    "plt.close()\n",
    "\n",
    "# Display forecasted values\n",
    "print(\"Forecasted values for next 6 months:\\n\", forecast)\n"
   ]
  },
  {
   "cell_type": "code",
   "execution_count": 12,
   "metadata": {
    "colab": {
     "base_uri": "https://localhost:8080/",
     "height": 487
    },
    "id": "DsSIbhf2DwbW",
    "outputId": "cb135bad-04cb-4190-9fcc-2b25d9b5bc69"
   },
   "outputs": [],
   "source": [
    "# Plot histogram for distribution of border crossings\n",
    "plt.figure(figsize=(10, 5))\n",
    "sns.histplot(df_cleaned['Value'], bins=50, kde=True, color='blue')\n",
    "\n",
    "plt.title('Histogram of Border Crossings Distribution')\n",
    "plt.xlabel('Number of Crossings')\n",
    "plt.ylabel('Frequency')\n",
    "plt.grid(True)\n",
    "\n",
    "plt.savefig(os.path.join(save_folder, \"Histogram of Border Crossings.png\"))\n",
    "plt.close()\n"
   ]
  }
 ],
 "metadata": {
  "colab": {
   "provenance": []
  },
  "kernelspec": {
   "display_name": "Python 3 (ipykernel)",
   "language": "python",
   "name": "python3"
  },
  "language_info": {
   "codemirror_mode": {
    "name": "ipython",
    "version": 3
   },
   "file_extension": ".py",
   "mimetype": "text/x-python",
   "name": "python",
   "nbconvert_exporter": "python",
   "pygments_lexer": "ipython3",
   "version": "3.10.9"
  }
 },
 "nbformat": 4,
 "nbformat_minor": 1
}
